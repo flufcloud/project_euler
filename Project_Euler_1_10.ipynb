{
  "nbformat": 4,
  "nbformat_minor": 0,
  "metadata": {
    "colab": {
      "provenance": [],
      "authorship_tag": "ABX9TyPNCFKTA9VxVyIJtZqJiOdu",
      "include_colab_link": true
    },
    "kernelspec": {
      "name": "python3",
      "display_name": "Python 3"
    },
    "language_info": {
      "name": "python"
    }
  },
  "cells": [
    {
      "cell_type": "markdown",
      "metadata": {
        "id": "view-in-github",
        "colab_type": "text"
      },
      "source": [
        "<a href=\"https://colab.research.google.com/github/flufcloud/project_euler/blob/main/Project_Euler_1_10.ipynb\" target=\"_parent\"><img src=\"https://colab.research.google.com/assets/colab-badge.svg\" alt=\"Open In Colab\"/></a>"
      ]
    },
    {
      "cell_type": "code",
      "execution_count": null,
      "metadata": {
        "id": "HpqTo6efwZvG"
      },
      "outputs": [],
      "source": [
        "import numpy\n",
        "import pdb\n",
        "import math"
      ]
    },
    {
      "cell_type": "code",
      "source": [
        "# Day 1: Sum of all multiples of 3 and 5 below 1000\n",
        "sum = 0\n",
        "for i in range(1000):\n",
        "    if i % 3 == 0 or i % 5 == 0:\n",
        "        sum += i\n",
        "print(sum)"
      ],
      "metadata": {
        "colab": {
          "base_uri": "https://localhost:8080/"
        },
        "id": "NlLqO8JowgkH",
        "outputId": "6646b2a2-a57c-4954-e1da-0fbc0a9b02df"
      },
      "execution_count": null,
      "outputs": [
        {
          "output_type": "stream",
          "name": "stdout",
          "text": [
            "233168\n"
          ]
        }
      ]
    },
    {
      "cell_type": "code",
      "source": [
        "# Day 2: Even fibonacci < 4,000,000\n",
        "i = 1\n",
        "j = 2\n",
        "sum = 0\n",
        "while (i < 4000000):\n",
        "  if (i % 2 == 0):\n",
        "    sum += i\n",
        "  j = i + j\n",
        "  i = j - i\n",
        "print(sum)\n",
        "\n"
      ],
      "metadata": {
        "colab": {
          "base_uri": "https://localhost:8080/"
        },
        "id": "QN2ZF4qYw-hn",
        "outputId": "77acd9af-62d0-484b-acd0-6c012b09cfc0"
      },
      "execution_count": null,
      "outputs": [
        {
          "output_type": "stream",
          "name": "stdout",
          "text": [
            "4613732\n"
          ]
        }
      ]
    },
    {
      "cell_type": "code",
      "source": [
        "# Day 3: Largest prime factor of 600851475143\n",
        "x = 600851475143\n",
        "largest = 1\n",
        "i = 2\n",
        "while largest <= x:\n",
        "  if (x % i == 0):\n",
        "    x = x // i\n",
        "    largest = i\n",
        "    i -= 1\n",
        "  i += 1\n",
        "print(largest)"
      ],
      "metadata": {
        "colab": {
          "base_uri": "https://localhost:8080/"
        },
        "id": "rJoZnguJy0eD",
        "outputId": "54b7439d-be0b-48dc-f1ea-423ac75217da"
      },
      "execution_count": null,
      "outputs": [
        {
          "output_type": "stream",
          "name": "stdout",
          "text": [
            "6857\n"
          ]
        }
      ]
    },
    {
      "cell_type": "code",
      "source": [
        "# Day 4: Find the largest palindrome made from the product of two 3-digit numbers.\n",
        "\n",
        "def reverse_number(n):\n",
        "  reversed_n = 0\n",
        "  while n > 0:\n",
        "    reversed_n = reversed_n * 10 + n % 10\n",
        "    n //= 10\n",
        "  return reversed_n\n",
        "\n",
        "largest_palin = 0\n",
        "for x in range(100, 1000):\n",
        "  for y in range(100, 1000):\n",
        "    num = x * y\n",
        "    if (num > largest_palin and num == reverse_number(num)):\n",
        "      largest_palin = num\n",
        "print(largest_palin)\n"
      ],
      "metadata": {
        "id": "uTcFhtr2NLjD",
        "colab": {
          "base_uri": "https://localhost:8080/"
        },
        "outputId": "8cca4840-f0e5-481f-c6ce-7d04084647cf"
      },
      "execution_count": 98,
      "outputs": [
        {
          "output_type": "stream",
          "name": "stdout",
          "text": [
            "906609\n"
          ]
        }
      ]
    }
  ]
}