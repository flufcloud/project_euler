{
  "nbformat": 4,
  "nbformat_minor": 0,
  "metadata": {
    "colab": {
      "provenance": [],
      "authorship_tag": "ABX9TyODU/4klKqDLPCtuQ1fWkyL",
      "include_colab_link": true
    },
    "kernelspec": {
      "name": "python3",
      "display_name": "Python 3"
    },
    "language_info": {
      "name": "python"
    }
  },
  "cells": [
    {
      "cell_type": "markdown",
      "metadata": {
        "id": "view-in-github",
        "colab_type": "text"
      },
      "source": [
        "<a href=\"https://colab.research.google.com/github/flufcloud/project_euler/blob/main/Project_Euler_1_10.ipynb\" target=\"_parent\"><img src=\"https://colab.research.google.com/assets/colab-badge.svg\" alt=\"Open In Colab\"/></a>"
      ]
    },
    {
      "cell_type": "code",
      "execution_count": 6,
      "metadata": {
        "id": "HpqTo6efwZvG"
      },
      "outputs": [],
      "source": [
        "import numpy\n",
        "import pdb\n",
        "import math"
      ]
    },
    {
      "cell_type": "code",
      "source": [
        "# Day 1: Sum of all multiples of 3 and 5 below 1000\n",
        "sum = 0\n",
        "for i in range(1000):\n",
        "    if i % 3 == 0 or i % 5 == 0:\n",
        "        sum += i\n",
        "print(sum)"
      ],
      "metadata": {
        "colab": {
          "base_uri": "https://localhost:8080/"
        },
        "id": "NlLqO8JowgkH",
        "outputId": "6646b2a2-a57c-4954-e1da-0fbc0a9b02df"
      },
      "execution_count": null,
      "outputs": [
        {
          "output_type": "stream",
          "name": "stdout",
          "text": [
            "233168\n"
          ]
        }
      ]
    },
    {
      "cell_type": "code",
      "source": [
        "# Day 2: Even fibonacci < 4,000,000\n",
        "i = 1\n",
        "j = 2\n",
        "sum = 0\n",
        "while (i < 4000000):\n",
        "  if (i % 2 == 0):\n",
        "    sum += i\n",
        "  j = i + j\n",
        "  i = j - i\n",
        "print(sum)\n",
        "\n"
      ],
      "metadata": {
        "colab": {
          "base_uri": "https://localhost:8080/"
        },
        "id": "QN2ZF4qYw-hn",
        "outputId": "77acd9af-62d0-484b-acd0-6c012b09cfc0"
      },
      "execution_count": null,
      "outputs": [
        {
          "output_type": "stream",
          "name": "stdout",
          "text": [
            "4613732\n"
          ]
        }
      ]
    },
    {
      "cell_type": "code",
      "source": [
        "# Day 3: Largest prime factor of 600851475143\n",
        "x = 600851475143\n",
        "largest = 1\n",
        "i = 2\n",
        "while largest <= x:\n",
        "  if (x % i == 0):\n",
        "    x = x // i\n",
        "    largest = i\n",
        "    i -= 1\n",
        "  i += 1\n",
        "print(largest)"
      ],
      "metadata": {
        "colab": {
          "base_uri": "https://localhost:8080/"
        },
        "id": "rJoZnguJy0eD",
        "outputId": "54b7439d-be0b-48dc-f1ea-423ac75217da"
      },
      "execution_count": null,
      "outputs": [
        {
          "output_type": "stream",
          "name": "stdout",
          "text": [
            "6857\n"
          ]
        }
      ]
    },
    {
      "cell_type": "code",
      "source": [
        "# Day 4: Find the largest palindrome made from the product of two 3-digit numbers.\n",
        "x, y = 100, 100\n",
        "largest_palin = 10000\n",
        "for x, y in zip(range(100, 1000), range(100, 1000)):\n",
        "  palin = x * y\n",
        "  palin_helper = 0\n",
        "  base = 1\n",
        "  while palin >= 10:\n",
        "    palin_helper = (palin_helper * 10) + palin % 10\n",
        "    palin = palin / 10\n",
        "  if palin == palin_helper:\n",
        "    larget_palin = palin\n",
        "print(largest_palin)"
      ],
      "metadata": {
        "id": "uTcFhtr2NLjD",
        "colab": {
          "base_uri": "https://localhost:8080/"
        },
        "outputId": "cacd8052-fe02-4472-be93-f3759276f25b"
      },
      "execution_count": 10,
      "outputs": [
        {
          "output_type": "stream",
          "name": "stdout",
          "text": [
            "10000\n"
          ]
        }
      ]
    }
  ]
}